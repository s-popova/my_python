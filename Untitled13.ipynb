{
 "cells": [
  {
   "cell_type": "code",
   "execution_count": 1,
   "metadata": {},
   "outputs": [
    {
     "name": "stdout",
     "output_type": "stream",
     "text": [
      "2017-05-09 09:00:00\n"
     ]
    }
   ],
   "source": [
    "from datetime import datetime, timedelta\n",
    "date_string = 'May 9 2017 9:00AM'\n",
    "date_datetime = datetime.strptime(date_string, '%b %d %Y %H:%M%p')\n",
    "hour = int(date_datetime.hour)\n",
    "print(date_datetime)"
   ]
  },
  {
   "cell_type": "code",
   "execution_count": 2,
   "metadata": {},
   "outputs": [
    {
     "name": "stdout",
     "output_type": "stream",
     "text": [
      "2017-05-09 10:00:00\n"
     ]
    }
   ],
   "source": [
    "date_string = 'May 9 2017 9:00AM'\n",
    "date_datetime = datetime.strptime(date_string, '%b %d %Y %H:%M%p')\n",
    "date_datetime += timedelta(hours=1)\n",
    "print(date_datetime)"
   ]
  },
  {
   "cell_type": "code",
   "execution_count": 3,
   "metadata": {},
   "outputs": [
    {
     "name": "stdout",
     "output_type": "stream",
     "text": [
      "2017-05-09\n"
     ]
    }
   ],
   "source": [
    "date_str = date_datetime.strftime('%Y-%m-%d')\n",
    "print(date_str)"
   ]
  },
  {
   "cell_type": "code",
   "execution_count": null,
   "metadata": {},
   "outputs": [],
   "source": []
  }
 ],
 "metadata": {
  "kernelspec": {
   "display_name": "Python 3",
   "language": "python",
   "name": "python3"
  },
  "language_info": {
   "codemirror_mode": {
    "name": "ipython",
    "version": 3
   },
   "file_extension": ".py",
   "mimetype": "text/x-python",
   "name": "python",
   "nbconvert_exporter": "python",
   "pygments_lexer": "ipython3",
   "version": "3.7.6"
  }
 },
 "nbformat": 4,
 "nbformat_minor": 4
}
