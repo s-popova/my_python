{
 "cells": [
  {
   "cell_type": "code",
   "execution_count": 7,
   "metadata": {},
   "outputs": [
    {
     "name": "stdout",
     "output_type": "stream",
     "text": [
      "Дата\n",
      "2016     7199\n",
      "2017    11872\n",
      "2018     7055\n",
      "2019     8754\n",
      "2020     1444\n",
      "Name: Значение, dtype: int64\n"
     ]
    }
   ],
   "source": [
    "import pandas as pd\n",
    "import matplotlib.pyplot as plt\n",
    "from datetime import datetime\n",
    "%matplotlib inline\n",
    "df = pd.read_csv(\"https://raw.githubusercontent.com/dm-fedorov/python_basic/master/data/vkontakte_group_01_2016-08-01_2020-03-15.csv\")\n",
    "dfc= pd.get_dummies(df, columns=['Критерий'])\n",
    "def to_datetime(row):\n",
    "    return datetime.strptime(row['Дата'], '%d.%m.%Y')\n",
    "f = dfc[['Дата', 'Значение']][dfc['Критерий_views'] == 1]\n",
    "f['Дата'] = f.apply(to_datetime, axis=1).dt.strftime('%Y')\n",
    "py = f.groupby(['Дата'])['Значение'].sum()\n",
    "print(py)"
   ]
  },
  {
   "cell_type": "code",
   "execution_count": 20,
   "metadata": {},
   "outputs": [
    {
     "data": {
      "image/png": "[encoded data removed]",
      "text/plain": [
       "<Figure size 432x288 with 1 Axes>"
      ]
     },
     "metadata": {
      "needs_background": "light"
     },
     "output_type": "display_data"
    }
   ],
   "source": [
    "import pylab\n",
    "a = dfc[['Дата','Значение']][dfc['Критерий_reach'] == 1]\n",
    "a['Дата'] = a.apply(to_datetime, axis=1).dt.strftime('%Y-%m')\n",
    "au = a.groupby(['Дата'])['Значение'].sum()\n",
    "f = dfc[['Дата','Значение']][dfc['Критерий_reach_subscribers'] == 1]\n",
    "f['Дата'] = f.apply(to_datetime, axis=1).dt.strftime('%Y-%m')\n",
    "fo = f.groupby(['Дата'])['Значение'].sum()\n",
    "plt.title('Суммарный анализ охвата')\n",
    "plt.xlabel('Дата')\n",
    "plt.ylabel('')\n",
    "au.plot(label=\"reach\",color = 'green')\n",
    "fo.plot(label = \"reach_subscribers\",color = 'red')\n",
    "pylab.ylim(0, 10000)\n",
    "plt.legend(loc=\"upper left\")\n",
    "plt.grid(True)\n",
    "plt.show()"
   ]
  },
  {
   "cell_type": "code",
   "execution_count": 25,
   "metadata": {},
   "outputs": [
    {
     "name": "stdout",
     "output_type": "stream",
     "text": [
      "анализ демографии по стране:\n",
      " Парам. №1\n",
      "Австралия                       1\n",
      "Австрия                         7\n",
      "Азербайджан                    19\n",
      "Аргентина                       1\n",
      "Армения                         8\n",
      "                               ..\n",
      "Шри-Ланка                       1\n",
      "Эстония                        28\n",
      "Южная Корея                     3\n",
      "Южно-Африканская Республика     1\n",
      "Япония                          2\n",
      "Name: Значение, Length: 70, dtype: int64\n",
      "анализ демографии по возрасту аудитории:\n",
      " Парам. №1\n",
      "1-18      741\n",
      "18-21    3046\n",
      "21-24    2560\n",
      "24-27    1751\n",
      "27-30    2419\n",
      "30-35    3466\n",
      "35-45    2402\n",
      "45+      2350\n",
      "Name: Значение, dtype: int64\n",
      "анализ демографии по полу:\n",
      " Парам. №1\n",
      "Ж    10063\n",
      "М    12637\n",
      "Name: Значение, dtype: int64\n"
     ]
    }
   ],
   "source": [
    "gender = dfc[['Дата', 'Значение','Парам. №1']][dfc['Критерий_gender'] == 1]\n",
    "gender1 = gender.groupby(['Парам. №1'])['Значение'].sum()\n",
    "\n",
    "age = dfc[['Парам. №1', 'Значение']][dfc['Критерий_age'] == 1]\n",
    "age1 = age.groupby(['Парам. №1'])['Значение'].sum()\n",
    "country = dfc[['Парам. №1','Значение']][dfc['Критерий_countries'] == 1]\n",
    "country1 = country.groupby(['Парам. №1'])['Значение'].sum()\n",
    "print(\"анализ демографии по стране:\\n\",country1 )\n",
    "print(\"анализ демографии по возрасту аудитории:\\n\",age1 )\n",
    "print(\"анализ демографии по полу:\\n\",gender1 )"
   ]
  },
  {
   "cell_type": "code",
   "execution_count": 26,
   "metadata": {},
   "outputs": [
    {
     "name": "stdout",
     "output_type": "stream",
     "text": [
      "Нравится              683\n",
      "Рассказали друзьям    291\n",
      "Комментарии            91\n",
      "Упоминания              1\n",
      "Name: Парам. №1, dtype: int64\n"
     ]
    }
   ],
   "source": [
    "\n",
    "get_feedback = dfc[['Дата','Парам. №1','Значение']][dfc['Критерий_feedback'] == 1]\n",
    "get_feedback['Дата'] = get_feedback.apply(to_datetime, axis=1).dt.strftime('%Y-%m')\n",
    "print(get_feedback['Парам. №1'].value_counts())"
   ]
  },
  {
   "cell_type": "code",
   "execution_count": 29,
   "metadata": {},
   "outputs": [
    {
     "name": "stdout",
     "output_type": "stream",
     "text": [
      "18-21 лет и 30-35 лет\n",
      "Россия\n"
     ]
    }
   ],
   "source": [
    "print(str(age1.sort_values(ascending=False).index[1]) , 'лет и', str(age1.sort_values(ascending=False).index[0]), 'лет')\n",
    "print( str(country1.sort_values(ascending=False).index[0]))"
   ]
  },
  {
   "cell_type": "code",
   "execution_count": null,
   "metadata": {},
   "outputs": [],
   "source": []
  }
 ],
 "metadata": {
  "kernelspec": {
   "display_name": "Python 3",
   "language": "python",
   "name": "python3"
  },
  "language_info": {
   "codemirror_mode": {
    "name": "ipython",
    "version": 3
   },
   "file_extension": ".py",
   "mimetype": "text/x-python",
   "name": "python",
   "nbconvert_exporter": "python",
   "pygments_lexer": "ipython3",
   "version": "3.7.6"
  }
 },
 "nbformat": 4,
 "nbformat_minor": 4
}
