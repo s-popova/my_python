{
 "cells": [
  {
   "cell_type": "code",
   "execution_count": 3,
   "metadata": {},
   "outputs": [],
   "source": [
    "def to_do_list():\n",
    "    try:\n",
    "        a = []\n",
    "        while True:\n",
    "            b = int(input(\"Введите 1, 2 или 3: \"))\n",
    "            if b == 3:\n",
    "                with open(\"new_to_do_list.json\",\"w\") as file:\n",
    "                    file.write('a')\n",
    "                print('Список заданий сохранен!')\n",
    "                break\n",
    "            elif b == 2:\n",
    "                print(a)\n",
    "            else:\n",
    "                name = (\"Сформулируйте задачу: \")\n",
    "                category = input(\"Введите категорию задачи: \")\n",
    "                time = input(\"Установите сроки выполнения задачи: \")\n",
    "                a.append({\"category\": category, \"name\": name, \"time\": time})\n",
    "    except Exception as c:\n",
    "        print(c)"
   ]
  },
  {
   "cell_type": "code",
   "execution_count": 4,
   "metadata": {},
   "outputs": [
    {
     "name": "stdin",
     "output_type": "stream",
     "text": [
      "Введите 1, 2 или 3:  1\n",
      "Сформулируйте задачу:  cat1\n",
      "Введите категорию задачи:  time\n",
      "Установите сроки выполнения задачи:  666\n",
      "Введите 1, 2 или 3:  3\n"
     ]
    },
    {
     "name": "stdout",
     "output_type": "stream",
     "text": [
      "Список заданий сохранен!\n"
     ]
    }
   ],
   "source": [
    "\n",
    "try:\n",
    "    a = []\n",
    "    while True:\n",
    "        b = int(input(\"Введите 1, 2 или 3: \"))\n",
    "        if b == 3:\n",
    "            with open(\"new_to_do_list.json\",\"w\") as file:\n",
    "                file.write('a')\n",
    "            print('Список заданий сохранен!')\n",
    "            break\n",
    "        elif b == 2:\n",
    "            print(a)\n",
    "        else:\n",
    "            name = input(\"Сформулируйте задачу: \")\n",
    "            category = input(\"Введите категорию задачи: \")\n",
    "            time = input(\"Установите сроки выполнения задачи: \")\n",
    "            a.append({\"category\": category, \"name\": name, \"time\": time})\n",
    "except Exception as c:\n",
    "    print(c)"
   ]
  },
  {
   "cell_type": "code",
   "execution_count": null,
   "metadata": {},
   "outputs": [],
   "source": []
  }
 ],
 "metadata": {
  "kernelspec": {
   "display_name": "Python 3",
   "language": "python",
   "name": "python3"
  },
  "language_info": {
   "codemirror_mode": {
    "name": "ipython",
    "version": 3
   },
   "file_extension": ".py",
   "mimetype": "text/x-python",
   "name": "python",
   "nbconvert_exporter": "python",
   "pygments_lexer": "ipython3",
   "version": "3.7.6"
  }
 },
 "nbformat": 4,
 "nbformat_minor": 4
}
