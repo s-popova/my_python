{
 "cells": [
  {
   "cell_type": "code",
   "execution_count": 1,
   "metadata": {},
   "outputs": [],
   "source": [
    "def create_csv(filename,spisok):\n",
    "    try:\n",
    "        with open(\"filename.txt\",\"w\") as file:\n",
    "            a = list(map(lambda b: \",\".join(b),spisok))\n",
    "            b = \"name, address, age\" + \"\\n\".join(a)\n",
    "            file.write(b)\n",
    "    except Exception as c:\n",
    "        print(c)\n",
    "spisok = [(\"Георгий\", \"Невский проспект\", \"22\"),(\"Иван\", \"пр. Ветеранов\", \"21\")]"
   ]
  },
  {
   "cell_type": "code",
   "execution_count": null,
   "metadata": {},
   "outputs": [],
   "source": []
  }
 ],
 "metadata": {
  "kernelspec": {
   "display_name": "Python 3",
   "language": "python",
   "name": "python3"
  },
  "language_info": {
   "codemirror_mode": {
    "name": "ipython",
    "version": 3
   },
   "file_extension": ".py",
   "mimetype": "text/x-python",
   "name": "python",
   "nbconvert_exporter": "python",
   "pygments_lexer": "ipython3",
   "version": "3.7.6"
  }
 },
 "nbformat": 4,
 "nbformat_minor": 4
}
