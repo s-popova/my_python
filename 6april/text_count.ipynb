{
 "cells": [
  {
   "cell_type": "code",
   "execution_count": 1,
   "metadata": {},
   "outputs": [
    {
     "name": "stdout",
     "output_type": "stream",
     "text": [
      "Cреднее количество слов: 260.0\n",
      "Количество букв в файле в верх: 29\n",
      "Количество букв в ниж: 1228\n",
      "Количество цифр: 30\n",
      "Количество пробелов: 250\n"
     ]
    }
   ],
   "source": [
    "with open(\"text2.txt\",'r', encoding='utf8') as f:\n",
    "    text = f.read()\n",
    "    print('Cреднее количество слов:', len(text.split()) / len(text.split('\\\\n')))\n",
    "    print('Количество букв в файле в верх:', sum(1 for i in text if i.isupper()))\n",
    "    print('Количество букв в ниж:', sum(1 for i in text if i.islower()))\n",
    "    print('Количество цифр:', sum(1 for i in text if i.isdigit()))\n",
    "    print('Количество пробелов:', sum(1 for i in text if i == \" \"))"
   ]
  },
  {
   "cell_type": "code",
   "execution_count": null,
   "metadata": {},
   "outputs": [],
   "source": []
  }
 ],
 "metadata": {
  "kernelspec": {
   "display_name": "Python 3",
   "language": "python",
   "name": "python3"
  },
  "language_info": {
   "codemirror_mode": {
    "name": "ipython",
    "version": 3
   },
   "file_extension": ".py",
   "mimetype": "text/x-python",
   "name": "python",
   "nbconvert_exporter": "python",
   "pygments_lexer": "ipython3",
   "version": "3.7.6"
  }
 },
 "nbformat": 4,
 "nbformat_minor": 4
}
