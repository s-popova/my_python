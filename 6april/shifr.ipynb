{
 "cells": [
  {
   "cell_type": "code",
   "execution_count": 2,
   "metadata": {},
   "outputs": [
    {
     "name": "stdout",
     "output_type": "stream",
     "text": [
      "Несуществующий файл\n"
     ]
    }
   ],
   "source": [
    "import csv\n",
    "\n",
    "try:\n",
    "    codes = {\"А\" : \"%\" , \"а\" : \"9\" , \"Б\" : \"@\", \"6\" : \"#\",\"Я\":\"№\",\"я\":\"+\"}\n",
    "    with open(\"file.txt\",'r',encoding='utf8') as file:\n",
    "        new = csv.reader(file)\n",
    "        for row in new:\n",
    "            l=','.join(row)\n",
    "            for i in row:\n",
    "                for j in range(len(i)):\n",
    "                    if i[j] in list(codes.keys()):\n",
    "                        m=codes.get(i[j]) \n",
    "                        l=l.replace(i[j],m)\n",
    "    with open(\"file_for_done_code.txt\",'w',encoding='utf8') as output_file:\n",
    "        print(l,file=output_file)\n",
    "except FileNotFoundError:\n",
    "            print(\"Несуществующий файл\")"
   ]
  },
  {
   "cell_type": "code",
   "execution_count": null,
   "metadata": {},
   "outputs": [],
   "source": []
  }
 ],
 "metadata": {
  "kernelspec": {
   "display_name": "Python 3",
   "language": "python",
   "name": "python3"
  },
  "language_info": {
   "codemirror_mode": {
    "name": "ipython",
    "version": 3
   },
   "file_extension": ".py",
   "mimetype": "text/x-python",
   "name": "python",
   "nbconvert_exporter": "python",
   "pygments_lexer": "ipython3",
   "version": "3.7.6"
  }
 },
 "nbformat": 4,
 "nbformat_minor": 4
}
