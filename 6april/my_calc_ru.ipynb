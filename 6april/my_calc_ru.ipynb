{
 "cells": [
  {
   "cell_type": "code",
   "execution_count": null,
   "metadata": {},
   "outputs": [
    {
     "name": "stdout",
     "output_type": "stream",
     "text": [
      "Введите 2 числа\n"
     ]
    },
    {
     "name": "stdin",
     "output_type": "stream",
     "text": [
      " 2 3\n"
     ]
    },
    {
     "name": "stdout",
     "output_type": "stream",
     "text": [
      "Введите знак\n"
     ]
    },
    {
     "name": "stdin",
     "output_type": "stream",
     "text": [
      " +\n"
     ]
    },
    {
     "name": "stdout",
     "output_type": "stream",
     "text": [
      "5.0\n",
      "Введите 2 числа\n"
     ]
    },
    {
     "name": "stdin",
     "output_type": "stream",
     "text": [
      " 34444226546 546465646\n"
     ]
    },
    {
     "name": "stdout",
     "output_type": "stream",
     "text": [
      "Введите знак\n"
     ]
    },
    {
     "name": "stdin",
     "output_type": "stream",
     "text": [
      " *\n"
     ]
    },
    {
     "name": "stdout",
     "output_type": "stream",
     "text": [
      "1.8822586510430237e+19\n",
      "Введите 2 числа\n"
     ]
    }
   ],
   "source": [
    "while True:\n",
    "    a, b  =  0, 0\n",
    "    try:\n",
    "        print(\"Введите 2 числа\")\n",
    "        try:\n",
    "            a, b = input().split()\n",
    "        except ValueError:\n",
    "            print(\"Слишком много или слишком мало аргументов, попробуйте снова\")\n",
    "            continue\n",
    "        a, b  = float(a), float(b)\n",
    "    except ValueError:\n",
    "        print(\"Неверно произведен ввод чисел, попытайтесь еще раз\")\n",
    "        continue\n",
    "    print(\"Введите знак\")\n",
    "    c = input()\n",
    "    if c == \"+\":\n",
    "        print(a + b)\n",
    "    elif c == \"*\":\n",
    "        print(a * b)\n",
    "    elif c == \"-\":\n",
    "        print(a - b)\n",
    "    elif c == \"/\":\n",
    "        try:\n",
    "            print(a / b)\n",
    "        except ZeroDivisionError:\n",
    "            print(\"На ноль делить нельзя, попытайтесь еще раз\")\n",
    "            continue\n",
    "    else:\n",
    "        print(\"Неверно произведен ввод знака, попытайтесь еще раз\")\n",
    "        continue"
   ]
  },
  {
   "cell_type": "code",
   "execution_count": null,
   "metadata": {},
   "outputs": [],
   "source": []
  }
 ],
 "metadata": {
  "kernelspec": {
   "display_name": "Python 3",
   "language": "python",
   "name": "python3"
  },
  "language_info": {
   "codemirror_mode": {
    "name": "ipython",
    "version": 3
   },
   "file_extension": ".py",
   "mimetype": "text/x-python",
   "name": "python",
   "nbconvert_exporter": "python",
   "pygments_lexer": "ipython3",
   "version": "3.7.6"
  }
 },
 "nbformat": 4,
 "nbformat_minor": 4
}
