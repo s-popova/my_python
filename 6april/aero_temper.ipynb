{
 "cells": [
  {
   "cell_type": "code",
   "execution_count": 4,
   "metadata": {},
   "outputs": [
    {
     "name": "stdout",
     "output_type": "stream",
     "text": [
      "Всего уникальных температур: 44\n",
      "Максимальное значение температуры: 27.6\n",
      "Минимальное значение температуры: 4.4\n",
      "Среднее значение температуры: 14.3\n"
     ]
    }
   ],
   "source": [
    "\n",
    "temperature = {}\n",
    "with open(\"temper_stat.txt\", \"r\") as file:\n",
    "    for line in file:\n",
    "        line = float(line.strip(\"\\n\"))\n",
    "        try:\n",
    "            temperature[line] += 1\n",
    "        except KeyError:\n",
    "            temperature[line] = 1\n",
    "    unique_temperature = str(len(temperature))\n",
    "    max_temperature = str(max(temperature.keys()))\n",
    "    min_temperature = str(min(temperature.keys()))\n",
    "    average_temperature = str(round(sum(temperature.keys()) / len(temperature),1))\n",
    "print(\"Всего уникальных температур: \" + unique_temperature)\n",
    "print(\"Максимальное значение температуры: \" + max_temperature)\n",
    "print(\"Минимальное значение температуры: \" + min_temperature)\n",
    "print(\"Среднее значение температуры: \" + average_temperature)"
   ]
  },
  {
   "cell_type": "code",
   "execution_count": null,
   "metadata": {},
   "outputs": [],
   "source": []
  }
 ],
 "metadata": {
  "kernelspec": {
   "display_name": "Python 3",
   "language": "python",
   "name": "python3"
  },
  "language_info": {
   "codemirror_mode": {
    "name": "ipython",
    "version": 3
   },
   "file_extension": ".py",
   "mimetype": "text/x-python",
   "name": "python",
   "nbconvert_exporter": "python",
   "pygments_lexer": "ipython3",
   "version": "3.7.6"
  }
 },
 "nbformat": 4,
 "nbformat_minor": 4
}
