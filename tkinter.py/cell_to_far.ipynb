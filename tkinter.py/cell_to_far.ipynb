{
 "cells": [
  {
   "cell_type": "code",
   "execution_count": null,
   "metadata": {},
   "outputs": [],
   "source": [
    "from tkinter import *\n",
    "\n",
    "\n",
    "\n",
    "def celc_to_far():\n",
    "\n",
    "    try:\n",
    "\n",
    "        labelOutput.config(text = 9/5*float(entryInput.get())+32)\n",
    "\n",
    "    except ValueError:\n",
    "\n",
    "        labelOutput.config(text='Ошибка')\n",
    "\n",
    "\n",
    "\n",
    "root = Tk()\n",
    "\n",
    "root.title('Конвертатор')\n",
    "\n",
    "\n",
    "\n",
    "labelTitle = Label(text='Тем-ра в Цельсиях:')\n",
    "\n",
    "labelTitle.pack()\n",
    "\n",
    "\n",
    "\n",
    "entryInput = Entry(width=30, justify='center')\n",
    "\n",
    "entryInput.pack(padx=5)\n",
    "\n",
    "\n",
    "\n",
    "labelOutput = Label(text='')\n",
    "\n",
    "labelOutput.pack()\n",
    "\n",
    "\n",
    "\n",
    "btnConvert = Button(text='Перевести', command=celc_to_far)\n",
    "\n",
    "btnConvert.pack()\n",
    "\n",
    "\n",
    "\n",
    "btnExit = Button(text='Выход', command= lambda x=root: x.destroy())\n",
    "\n",
    "btnExit.pack()\n",
    "\n",
    "\n",
    "\n",
    "root.mainloop()"
   ]
  },
  {
   "cell_type": "code",
   "execution_count": null,
   "metadata": {},
   "outputs": [],
   "source": []
  }
 ],
 "metadata": {
  "kernelspec": {
   "display_name": "Python 3",
   "language": "python",
   "name": "python3"
  },
  "language_info": {
   "codemirror_mode": {
    "name": "ipython",
    "version": 3
   },
   "file_extension": ".py",
   "mimetype": "text/x-python",
   "name": "python",
   "nbconvert_exporter": "python",
   "pygments_lexer": "ipython3",
   "version": "3.7.6"
  }
 },
 "nbformat": 4,
 "nbformat_minor": 4
}
