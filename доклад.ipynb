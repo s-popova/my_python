{
 "cells": [
  {
   "cell_type": "markdown",
   "metadata": {},
   "source": [
    "Модули logging,locale, gettext"
   ]
  },
  {
   "cell_type": "markdown",
   "metadata": {},
   "source": [
    "Модуль logging - Отчет о состоянии, ошибках и информационных сообщениях"
   ]
  },
  {
   "cell_type": "markdown",
   "metadata": {},
   "source": [
    "\n",
    "Цель:\tСообщите о состоянии, ошибках и информационных сообщениях.\n",
    "Модуль определяет стандартный API для сообщения об ошибках и информации о состоянии приложений и библиотек. Ключевым преимуществом API регистрации, предоставляемого стандартным библиотечным модулем, является то, что все модули Python могут участвовать в регистрации, поэтому журнал приложения может включать сообщения от сторонних модулей.logging"
   ]
  },
  {
   "cell_type": "markdown",
   "metadata": {},
   "source": [
    "Модуль logging определяет стандартный API для журналирования событий, связанных c ошибками и изменением состояния, а также информационных и отладочных сообщений, поступающих из библиотек и приложений. Важным преимуществом того, что API журналирования предоставляется стандартной библиотекой, является то, что все модули Python могут участвовать в журналировании событий, поэтому журнал приложения может включать сообщения, поступающие из сторонних модулей."
   ]
  },
  {
   "cell_type": "markdown",
   "metadata": {},
   "source": [
    "Вход в файл"
   ]
  },
  {
   "cell_type": "markdown",
   "metadata": {},
   "source": [
    "\n",
    "Большинство приложений настроены для входа в файл. Используйте функцию для настройки обработчика по умолчанию, чтобы сообщения отладки были записаны в файл.basicConfig()\n",
    "После запуска скрипта сообщение журнала пишется:logging_example.out"
   ]
  },
  {
   "cell_type": "code",
   "execution_count": 1,
   "metadata": {},
   "outputs": [
    {
     "name": "stdout",
     "output_type": "stream",
     "text": [
      "FILE:\n",
      "DEBUG:root:This message should go to the log file\n",
      "\n"
     ]
    }
   ],
   "source": [
    "import logging\n",
    "\n",
    "LOG_FILENAME = 'logging_example.out'\n",
    "logging.basicConfig(\n",
    "    filename=LOG_FILENAME,\n",
    "    level=logging.DEBUG,\n",
    ")\n",
    "\n",
    "logging.debug('This message should go to the log file')\n",
    "\n",
    "with open(LOG_FILENAME, 'rt') as f:\n",
    "    body = f.read()\n",
    "\n",
    "print('FILE:')\n",
    "print(body)"
   ]
  },
  {
   "cell_type": "markdown",
   "metadata": {},
   "source": [
    "Вращающиеся файлы журнала"
   ]
  },
  {
   "cell_type": "markdown",
   "metadata": {},
   "source": [
    "Запуск скрипта неоднократно приводит к тому, что к файлу добавляется больше сообщений. Чтобы создать новый файл каждый раз, когда программа работает, передать аргумент с значением . Вместо того, чтобы управлять созданием файлов таким образом, однако, лучше использовать тот  , который создает новые файлы автоматически и сохраняет старый файл журнала в то же время."
   ]
  },
  {
   "cell_type": "markdown",
   "metadata": {},
   "source": [
    "Результатом является шесть отдельных файлов, каждый из которых имеет часть истории журнала для приложения."
   ]
  },
  {
   "cell_type": "code",
   "execution_count": 35,
   "metadata": {},
   "outputs": [
    {
     "name": "stdout",
     "output_type": "stream",
     "text": [
      "logging_rotatingfile_example.out\n",
      "logging_rotatingfile_example.out.1\n",
      "logging_rotatingfile_example.out.2\n",
      "logging_rotatingfile_example.out.3\n",
      "logging_rotatingfile_example.out.4\n",
      "logging_rotatingfile_example.out.5\n"
     ]
    }
   ],
   "source": [
    "import glob\n",
    "import logging\n",
    "import logging.handlers\n",
    "\n",
    "LOG_FILENAME = 'logging_rotatingfile_example.out'\n",
    "\n",
    "# Set up a specific logger with our desired output level\n",
    "my_logger = logging.getLogger('MyLogger')\n",
    "my_logger.setLevel(logging.DEBUG)\n",
    "\n",
    "# Add the log message handler to the logger\n",
    "handler = logging.handlers.RotatingFileHandler(\n",
    "    LOG_FILENAME,\n",
    "    maxBytes=20,\n",
    "    backupCount=5,\n",
    ")\n",
    "my_logger.addHandler(handler)\n",
    "\n",
    "# Log some messages\n",
    "for i in range(20):\n",
    "    my_logger.debug('i = %d' % i)\n",
    "\n",
    "# See what files are created\n",
    "logfiles = glob.glob('%s*' % LOG_FILENAME)\n",
    "for filename in sorted(logfiles):\n",
    "    print(filename)"
   ]
  },
  {
   "cell_type": "markdown",
   "metadata": {},
   "source": [
    "Самый актуальный файл всегда, и каждый раз, когда он достигает предела размера он переименован с суффиксом . Каждый из существующих файлов резервного копирования переименовываются в суффикс (становится и т.д.) и файл стирается.logging_rotatingfile_example.out.1.1.2.5"
   ]
  },
  {
   "cell_type": "markdown",
   "metadata": {},
   "source": [
    "Интеграция с модулем предупреждений"
   ]
  },
  {
   "cell_type": "markdown",
   "metadata": {},
   "source": [
    "Модуль регистрации интегрируется с предупреждениями через , который настраивает для отправки сообщений через систему регистрации, а не вывод их напрямую."
   ]
  },
  {
   "cell_type": "code",
   "execution_count": 43,
   "metadata": {},
   "outputs": [
    {
     "name": "stderr",
     "output_type": "stream",
     "text": [
      "C:\\Users\\Sofi\\anaconda3\\lib\\site-packages\\ipykernel_launcher.py:8: UserWarning: This warning is not sent to the logs\n",
      "  \n"
     ]
    }
   ],
   "source": [
    "import logging\n",
    "import warnings\n",
    "\n",
    "logging.basicConfig(\n",
    "    level=logging.INFO,\n",
    ")\n",
    "\n",
    "warnings.warn('This warning is not sent to the logs')\n",
    "\n",
    "logging.captureWarnings(True)\n",
    "\n",
    "warnings.warn('This warning is sent to the logs')"
   ]
  },
  {
   "cell_type": "markdown",
   "metadata": {},
   "source": [
    "Предупреждение отправляется регистратору, названного с помощью уровня.py.warningsWARNING"
   ]
  },
  {
   "cell_type": "markdown",
   "metadata": {},
   "source": [
    "Модуль locale"
   ]
  },
  {
   "cell_type": "markdown",
   "metadata": {},
   "source": [
    "Цель:\tФормат и анализ значений, зависящих от местоположения или языка."
   ]
  },
  {
   "cell_type": "markdown",
   "metadata": {},
   "source": [
    "Модуль является частью библиотеки поддержки интернационализации и локализации Python. Он обеспечивает стандартный способ обработки операций, которые могут зависеть от языка или местоположения пользователя. Например, он обрабатывает номера форматирования в валюте, сравнивая строки для сортировки и работая с датами. Он не охватывает перевод (см. модуль gettext) или кодирование Unicode (см. модуль кодеков)."
   ]
  },
  {
   "cell_type": "markdown",
   "metadata": {},
   "source": [
    "Для установки локальной культуры в модуле locale определена функция setlocale(). Она принимает два параметра:"
   ]
  },
  {
   "cell_type": "markdown",
   "metadata": {},
   "source": [
    "setlocale(category, locale)"
   ]
  },
  {
   "cell_type": "markdown",
   "metadata": {},
   "source": [
    "Первый параметр указывает на категорию, к которой применяется функция - к числам, валютам или и числам, и валютам. В качестве значения для параметра мы можем передавать одну из следующих констант:\n",
    "\n",
    "LC_ALL: применяет локализацию ко всем категориям - к форматированию чисел, валют, дат и т.д.\n",
    "\n",
    "LC_NUMERIC: применяет локализацию к числам\n",
    "\n",
    "LC_MONETARY: применяет локализацию к валютам\n",
    "\n",
    "LC_TIME: применяет локализацию к датам и времени\n",
    "\n",
    "LC_CTYPE: применяет локализацию при переводе символов в верхний или нижний регистр\n",
    "\n",
    "LC_COLLIATE: применяет локаль при сравнении строк\n",
    "\n",
    "Второй параметр функции setlocale указывает на локальную культуру, которую надо использовать. На ОС Windows можно использовать код станы по ISO из двух символов, например, для США - \"us\", для Германии - \"de\", для России - \"ru\". Но на MacOS необходимо указывать код языка и код страны, например, для английского в США - \"en_US\", для немецкого в Германии - \"de_DE\", для русского в России - \"ru_RU\". По умолчанию фактически используется культура \"en_US\"."
   ]
  },
  {
   "cell_type": "markdown",
   "metadata": {},
   "source": [
    "Валюты"
   ]
  },
  {
   "cell_type": "markdown",
   "metadata": {},
   "source": [
    "Этот пример проходит через несколько различных локалей для печати положительной и отрицательной валютной стоимости, отформатированной для каждого языка."
   ]
  },
  {
   "cell_type": "code",
   "execution_count": 5,
   "metadata": {},
   "outputs": [
    {
     "name": "stdout",
     "output_type": "stream",
     "text": [
      "       USA:   $1234.56  ($1234.56)\n",
      "    France:  1234,56 €  -1234,56 €\n",
      "     Spain:  1234,56 €  -1234,56 €\n",
      "  Portugal:  1234,56 €  -1234,56 €\n",
      "    Poland: 1234,56 zł  -1234,56 zł\n"
     ]
    }
   ],
   "source": [
    "import locale\n",
    "\n",
    "sample_l = [\n",
    "    ('USA', 'en_US'),\n",
    "    ('France', 'fr_FR'),\n",
    "    ('Spain', 'es_ES'),\n",
    "    ('Portugal', 'pt_PT'),\n",
    "    ('Poland', 'pl_PL'),\n",
    "]\n",
    "sample_locales = [\n",
    "    ('USA', 'en_US'),\n",
    "    ('France', 'fr_FR'),\n",
    "    ('Spain', 'es_ES'),\n",
    "    ('Portugal', 'pt_PT'),\n",
    "    ('Poland', 'pl_PL'),\n",
    "]\n",
    "\n",
    "for name, loc in sample_locales:\n",
    "    locale.setlocale(locale.LC_ALL, loc)\n",
    "    print('{:>10}: {:>10}  {:>10}'.format(\n",
    "        name,\n",
    "        locale.currency(1234.56),\n",
    "        locale.currency(-1234.56),\n",
    "    ))"
   ]
  },
  {
   "cell_type": "markdown",
   "metadata": {},
   "source": [
    "Номера форматирования"
   ]
  },
  {
   "cell_type": "markdown",
   "metadata": {},
   "source": [
    "Номера, не связанные с валютой, также отформатированы по-разному в зависимости от локализации. В частности, персонаж, используемый для разделения больших чисел на читаемые куски"
   ]
  },
  {
   "cell_type": "code",
   "execution_count": 15,
   "metadata": {},
   "outputs": [
    {
     "name": "stdout",
     "output_type": "stream",
     "text": [
      "       USA:   1234.56 => 1234.560000\n",
      "    France:   1234,56 => 1234.560000\n",
      "     Spain:   1234,56 => 1234.560000\n",
      "  Portugal:   1234.56 => 1234.560000\n"
     ]
    }
   ],
   "source": [
    "import locale\n",
    "\n",
    "sample_data = [\n",
    "    ('USA', 'en_US', '1234.56'),\n",
    "    ('France', 'fr_FR', '1234,56'),\n",
    "    ('Spain', 'es_ES', '1234,56'),\n",
    "    ('Portugal', 'pt_PT', '1234.56'),\n",
    "    \n",
    "]\n",
    "\n",
    "for name, loc, a in sample_data:\n",
    "    locale.setlocale(locale.LC_ALL, loc)\n",
    "    print('{:>10}: {:>9} => {:f}'.format(\n",
    "        name,\n",
    "        a,\n",
    "        locale.atof(a),\n",
    "    ))"
   ]
  },
  {
   "cell_type": "markdown",
   "metadata": {},
   "source": [
    "Для преобразования локальных номеров в нормализованный формат locale-agnostic используйте.delocalize()"
   ]
  },
  {
   "cell_type": "markdown",
   "metadata": {},
   "source": [
    "При форматировании чисел Python по умолчанию использует англосаксонскую систему, при которой разряды целого числа отделяются друг от друга запятыми, а дробная часть от целой отделяется точкой. В континентальной Европе, например, используется другая система, при которой разряды разделяются точкой, а дробная и целая часть - запятой:"
   ]
  },
  {
   "cell_type": "code",
   "execution_count": 12,
   "metadata": {},
   "outputs": [],
   "source": [
    "# англосаксонская система\n",
    "1,234.567;\n",
    "# европейская система\n",
    "1.234,567;"
   ]
  },
  {
   "cell_type": "markdown",
   "metadata": {},
   "source": [
    "Помимо генерации выходных данных в различных форматах, модуль помогает с анализом входных данных. Он включает в себя и функции для преобразования строк в более интегративные и плавающие точечные значения, основанные на численных конвенциях форматирования "
   ]
  },
  {
   "cell_type": "code",
   "execution_count": 17,
   "metadata": {},
   "outputs": [
    {
     "name": "stdout",
     "output_type": "stream",
     "text": [
      "    Locale    Integer           Float\n",
      "       USA    123,456      123,456.78\n",
      "    France    123 456      123 456,78\n",
      "     Spain    123.456      123.456,78\n",
      "  Portugal    123 456      123 456,78\n"
     ]
    }
   ],
   "source": [
    "import locale\n",
    "\n",
    "sample_locales = [\n",
    "    ('USA', 'en_US'),\n",
    "    ('France', 'fr_FR'),\n",
    "    ('Spain', 'es_ES'),\n",
    "    ('Portugal', 'pt_PT'),\n",
    "   \n",
    "]\n",
    "\n",
    "print('{:>10} {:>10} {:>15}'.format(\n",
    "    'Locale', 'Integer', 'Float')\n",
    ")\n",
    "for name, loc in sample_locales:\n",
    "    locale.setlocale(locale.LC_ALL, loc)\n",
    "\n",
    "    print('{:>10}'.format(name), end=' ')\n",
    "    print(locale.format_string('%10d', 123456, grouping=True), end=' ')\n",
    "    print(locale.format_string('%15.2f', 123456.78, grouping=True))"
   ]
  },
  {
   "cell_type": "markdown",
   "metadata": {},
   "source": [
    " Модуль gettext - Каталоги сообщений"
   ]
  },
  {
   "cell_type": "markdown",
   "metadata": {},
   "source": [
    "Модуль gettext предоставляет услуги интернационализации (I18N) и локализации (L10N) для модулей и приложений Python. Он поддерживает как API каталога сообщений GNU, так и API на более высоком уровне, основанный на классе, который может быть более подходящим для файлов Python. Описанный ниже интерфейс позволяет писать сообщения модуля и приложения на одном естественном языке, а также предоставлять каталог переведенных сообщений для работы на разных естественных языках.gettext\n",
    "\n",
    "Также даются некоторые подсказки по локализации модулей и приложений Python."
   ]
  },
  {
   "cell_type": "markdown",
   "metadata": {},
   "source": [
    "Создание каталогов сообщений из исходных кодов"
   ]
  },
  {
   "cell_type": "code",
   "execution_count": 19,
   "metadata": {},
   "outputs": [
    {
     "name": "stdout",
     "output_type": "stream",
     "text": [
      "This message is in the script.\n"
     ]
    }
   ],
   "source": [
    "import gettext\n",
    "\n",
    "t = gettext.translation(\n",
    "    'example_domain', 'locale',\n",
    "    fallback=True,\n",
    ")\n",
    "_ = t.gettext\n",
    "\n",
    "print(_('This message is in the script.'))"
   ]
  },
  {
   "cell_type": "markdown",
   "metadata": {},
   "source": [
    "gettext работает, глядя буквально строки в базе данных переводов, и вытаскивая соответствующие переведенные строки. Обычный шаблон заключается в том, чтобы привязать соответствующую функцию иеда в имя \"\" (один символ подчеркивать), так что код не загромождаются много звонков к функциям с более длинними именами._\n",
    "\n",
    "Программа извлечения сообщений, ищет сообщения, встроенные в вызовы к функциям каталога ищите. Он понимает различные языки источников и использует соответствующий парсер для каждого из них. Если функции проверки псевдонимом, или дополнительные функции добавляются, дать имена дополнительных символов, чтобы рассмотреть при извлечении сообщений."
   ]
  },
  {
   "cell_type": "code",
   "execution_count": 20,
   "metadata": {},
   "outputs": [
    {
     "name": "stdout",
     "output_type": "stream",
     "text": [
      "Catalogs: []\n"
     ]
    }
   ],
   "source": [
    "import gettext\n",
    "\n",
    "catalogs = gettext.find('example', 'locale', all=True)\n",
    "print('Catalogs:', catalogs)"
   ]
  },
  {
   "cell_type": "markdown",
   "metadata": {},
   "source": [
    "Поиск каталогов сообщений во время выполнения\n",
    "Как описано ранее, каталог языков, содержащий каталоги сообщений, организован на основе языка с каталогами, названными в честь домена программы. Различные операционные системы определяют свое значение по умолчанию, но не знают всех этих по умолчанию. Он использует каталог локале по умолчанию, но в большинстве случаев безопаснее всегда явно давать значение, чем зависеть от этого значения по умолчанию является действительным. Функция отвечает за поиск соответствующего каталога сообщений во время выполнения."
   ]
  },
  {
   "cell_type": "markdown",
   "metadata": {},
   "source": [
    "Локализация приложений"
   ]
  },
  {
   "cell_type": "markdown",
   "metadata": {},
   "source": [
    "Для переводов по всему приложению автору приемлемо устанавливать функцию, как глобальное использование пространства имен, поскольку они имеют контроль над верхним уровнем кода приложения."
   ]
  },
  {
   "cell_type": "code",
   "execution_count": 21,
   "metadata": {},
   "outputs": [
    {
     "name": "stdout",
     "output_type": "stream",
     "text": [
      "This message is in the script.\n"
     ]
    }
   ],
   "source": [
    "import gettext\n",
    "\n",
    "gettext.install(\n",
    "    'example',\n",
    "    'locale',\n",
    "    names=['ngettext'],\n",
    ")\n",
    "\n",
    "print(_('This message is in the script.'))"
   ]
  },
  {
   "cell_type": "markdown",
   "metadata": {},
   "source": [
    "Для библиотеки или отдельного модуля изменение не является хорошей идеей, поскольку может привести к конфликтам с глобальной ценностью приложения. Вместо этого импорт или повторное связывание имен функций перевода вручную в верхней части модуля."
   ]
  },
  {
   "cell_type": "markdown",
   "metadata": {},
   "source": [
    "Модуль ConfigParser"
   ]
  },
  {
   "cell_type": "markdown",
   "metadata": {},
   "source": [
    "Этот модуль предоставляет класс ConfigParser, который реализует базовый язык конфигурации, который обеспечивает структуру, аналогичную тому, что находится в файлах Microsoft Windows INI. Вы можете использовать это для написания программ Python, которые могут быть легко настроены конечных пользователей."
   ]
  },
  {
   "cell_type": "markdown",
   "metadata": {},
   "source": [
    "Структура файлов INI описана в следующем разделе. По сути, файл состоит из разделов, каждый из которых содержит клавиши со значениями. классы configparser могут читать и писать такие файлы. Начнем с создания вышеупомянутого файла конфигурации программно."
   ]
  },
  {
   "cell_type": "code",
   "execution_count": 36,
   "metadata": {},
   "outputs": [
    {
     "name": "stdout",
     "output_type": "stream",
     "text": [
      "user\n",
      "serveraliveinterval\n",
      "compression\n",
      "compressionlevel\n",
      "forwardx11\n"
     ]
    },
    {
     "data": {
      "text/plain": [
       "'yes'"
      ]
     },
     "execution_count": 36,
     "metadata": {},
     "output_type": "execute_result"
    }
   ],
   "source": [
    ">>> import configparser\n",
    ">>> config = configparser.ConfigParser()\n",
    ">>> config.sections()\n",
    ">>> config.read('example.ini')\n",
    ">>> config.sections()\n",
    ">>> 'bitbucket.org' in config\n",
    ">>> 'bytebong.com' in config\n",
    ">>> config['bitbucket.org']['User']\n",
    ">>> config['DEFAULT']['Compression']\n",
    ">>> topsecret = config['topsecret.server.com']\n",
    ">>> topsecret['ForwardX11']\n",
    ">>> topsecret['Port']\n",
    ">>> for key in config['bitbucket.org']:  \n",
    "...    print(key)\n",
    "\n",
    ">>> config['bitbucket.org']['ForwardX11']\n"
   ]
  },
  {
   "cell_type": "markdown",
   "metadata": {},
   "source": [
    "Config parsers не угадывает типы данных значений в файлах конфигурации, всегда сохраняя их внутренне как строки. Это означает, что если вам нужны другие типы данных, вы должны преобразовать по своему усмотрению:"
   ]
  },
  {
   "cell_type": "code",
   "execution_count": 29,
   "metadata": {},
   "outputs": [
    {
     "data": {
      "text/plain": [
       "9.0"
      ]
     },
     "execution_count": 29,
     "metadata": {},
     "output_type": "execute_result"
    }
   ],
   "source": [
    ">>> int(topsecret['Port'])\n",
    ">>> float(topsecret['CompressionLevel'])"
   ]
  },
  {
   "cell_type": "markdown",
   "metadata": {},
   "source": [
    "Поскольку эта задача настолько распространена, config parsers обеспечивают целый ряд удобных методов getter для обработки целых, поплавков и булеан. Последний из них является наиболее интересным, потому что просто прохождения значение не будет делать ничего хорошего, поскольку до сих пор . Вот почему config parsers также обеспечивают getboolean (). Этот метод является нечувствительным к случаям и распознает boolean значения от /, /, / и / 1. Например:bool()bool('False')True'yes''no''on''off''true''false''1''0'"
   ]
  },
  {
   "cell_type": "code",
   "execution_count": 32,
   "metadata": {},
   "outputs": [
    {
     "data": {
      "text/plain": [
       "True"
      ]
     },
     "execution_count": 32,
     "metadata": {},
     "output_type": "execute_result"
    }
   ],
   "source": [
    " topsecret.getboolean('ForwardX11')\n",
    " \n",
    " config.getboolean('bitbucket.org', 'Compression')\n"
   ]
  },
  {
   "cell_type": "markdown",
   "metadata": {},
   "source": [
    "Методы объекта ConfigParser в Python."
   ]
  },
  {
   "cell_type": "markdown",
   "metadata": {},
   "source": [
    "Метод config.defaults() возвращает словарь, содержащий значения секции  для всего экземпляра."
   ]
  },
  {
   "cell_type": "markdown",
   "metadata": {},
   "source": [
    "Метод config.sections() возвращает список доступных разделов. \n"
   ]
  },
  {
   "cell_type": "markdown",
   "metadata": {},
   "source": [
    "Метод config.add_section() добавляет раздел с именем section к объекту ConfigParser."
   ]
  },
  {
   "cell_type": "markdown",
   "metadata": {},
   "source": [
    "Метод config.has_section() указывает, присутствует ли указанный секция section в конфигурации. "
   ]
  },
  {
   "cell_type": "markdown",
   "metadata": {},
   "source": [
    "Метод config.options() возвращает список опций, доступных в указанной секции section."
   ]
  },
  {
   "cell_type": "markdown",
   "metadata": {},
   "source": [
    "Метод config.has_option() проверяет, если данный раздел section существует и содержит данную опцию option, то возвращает True. В противном случае вернет False. "
   ]
  },
  {
   "cell_type": "markdown",
   "metadata": {},
   "source": [
    "Метод config.read() попытайтесь прочитать и проанализировать итерацию имен файлов filenames, возвращая список имен файлов, которые были успешно проанализированы."
   ]
  },
  {
   "cell_type": "markdown",
   "metadata": {},
   "source": [
    "Метод config.read_file() читает и анализирует данные конфигурации из объекта f, который должен быть итерируемым и выдавать строки Unicode. Аргументом f например может быть файл, открытый в текстовом режиме.\n",
    "\n",
    "Необязательный аргумент source указывает имя читаемого файла. Если source не указан, а аргумент f имеет атрибут name, то он будет использоваться для источника. По умолчанию '<???>'."
   ]
  },
  {
   "cell_type": "markdown",
   "metadata": {},
   "source": [
    "Задание:\n",
    "Отформатировать числа (321.3, 12345,8974) в (321.3zł, 12345zł,8974zł).zł - Польский злотый"
   ]
  }
 ],
 "metadata": {
  "kernelspec": {
   "display_name": "Python 3",
   "language": "python",
   "name": "python3"
  },
  "language_info": {
   "codemirror_mode": {
    "name": "ipython",
    "version": 3
   },
   "file_extension": ".py",
   "mimetype": "text/x-python",
   "name": "python",
   "nbconvert_exporter": "python",
   "pygments_lexer": "ipython3",
   "version": "3.7.6"
  }
 },
 "nbformat": 4,
 "nbformat_minor": 4
}
